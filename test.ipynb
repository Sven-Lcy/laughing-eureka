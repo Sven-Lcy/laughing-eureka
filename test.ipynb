{
 "cells": [
  {
   "cell_type": "code",
   "execution_count": 1,
   "metadata": {},
   "outputs": [],
   "source": [
    "from connection import Net\n",
    "\n",
    "net = Net('cisco_ios', '10.2.212.46', 'ciscouser', 'cisco@123')"
   ]
  },
  {
   "cell_type": "code",
   "execution_count": 3,
   "metadata": {},
   "outputs": [
    {
     "data": {
      "text/plain": [
       "'Building configuration...\\n\\nCurrent configuration : 6173 bytes\\n!\\n! Last configuration change at 07:01:45 UTC Wed Mar 6 2024\\n!\\nversion 17.3\\nservice timestamps debug datetime msec\\nservice timestamps log datetime msec\\nservice call-home\\nplatform qfp utilization monitor load 80\\nplatform punt-keepalive disable-kernel-core\\nplatform console serial\\n!\\nhostname minint-vmc4827\\n!\\nboot-start-marker\\nboot-end-marker\\n!\\n!\\n!\\naaa new-model\\n!\\n!\\n!\\n!\\n!\\n!\\n!\\n!\\naaa session-id common\\n!\\n!\\n!\\n!\\n!\\n!\\n!\\nip domain name yeslab.net\\n!\\n!\\n!\\nlogin on-success log\\n!\\n!\\n!\\n!\\n!\\n!\\n!\\nsubscriber templating\\n! \\n! \\n! \\n! \\n!\\n!\\nmultilink bundle-name authenticated\\n!\\n!\\n!\\n!\\n!\\n!\\n!\\n!\\n!\\n!\\n!\\n!\\n!\\n!\\n!\\ncrypto pki trustpoint SLA-TrustPoint\\n enrollment pkcs12\\n revocation-check crl\\n!\\ncrypto pki trustpoint TP-self-signed-3925178334\\n enrollment selfsigned\\n subject-name cn=IOS-Self-Signed-Certificate-3925178334\\n revocation-check none\\n rsakeypair TP-self-signed-3925178334\\n!\\n!\\ncrypto pki certificate chain SLA-TrustPoint\\n certificate ca 01\\n  30820321 30820209 A0030201 02020101 300D0609 2A864886 F70D0101 0B050030 \\n  32310E30 0C060355 040A1305 43697363 6F312030 1E060355 04031317 43697363 \\n  6F204C69 63656E73 696E6720 526F6F74 20434130 1E170D31 33303533 30313934 \\n  3834375A 170D3338 30353330 31393438 34375A30 32310E30 0C060355 040A1305 \\n  43697363 6F312030 1E060355 04031317 43697363 6F204C69 63656E73 696E6720 \\n  526F6F74 20434130 82012230 0D06092A 864886F7 0D010101 05000382 010F0030 \\n  82010A02 82010100 A6BCBD96 131E05F7 145EA72C 2CD686E6 17222EA1 F1EFF64D \\n  CBB4C798 212AA147 C655D8D7 9471380D 8711441E 1AAF071A 9CAE6388 8A38E520 \\n  1C394D78 462EF239 C659F715 B98C0A59 5BBB5CBD 0CFEBEA3 700A8BF7 D8F256EE \\n  4AA4E80D DB6FD1C9 60B1FD18 FFC69C96 6FA68957 A2617DE7 104FDC5F EA2956AC \\n  7390A3EB 2B5436AD C847A2C5 DAB553EB 69A9A535 58E9F3E3 C0BD23CF 58BD7188 \\n  68E69491 20F320E7 948E71D7 AE3BCC84 F10684C7 4BC8E00F 539BA42B 42C68BB7 \\n  C7479096 B4CB2D62 EA2F505D C7B062A4 6811D95B E8250FC4 5D5D5FB8 8F27D191 \\n  C55F0D76 61F9A4CD 3D992327 A8BB03BD 4E6D7069 7CBADF8B DF5F4368 95135E44 \\n  DFC7C6CF 04DD7FD1 02030100 01A34230 40300E06 03551D0F 0101FF04 04030201 \\n  06300F06 03551D13 0101FF04 05300301 01FF301D 0603551D 0E041604 1449DC85 \\n  4B3D31E5 1B3E6A17 606AF333 3D3B4C73 E8300D06 092A8648 86F70D01 010B0500 \\n  03820101 00507F24 D3932A66 86025D9F E838AE5C 6D4DF6B0 49631C78 240DA905 \\n  604EDCDE FF4FED2B 77FC460E CD636FDB DD44681E 3A5673AB 9093D3B1 6C9E3D8B \\n  D98987BF E40CBD9E 1AECA0C2 2189BB5C 8FA85686 CD98B646 5575B146 8DFC66A8 \\n  467A3DF4 4D565700 6ADF0F0D CF835015 3C04FF7C 21E878AC 11BA9CD2 55A9232C \\n  7CA7B7E6 C1AF74F6 152E99B7 B1FCF9BB E973DE7F 5BDDEB86 C71E3B49 1765308B \\n  5FB0DA06 B92AFE7F 494E8A9E 07B85737 F3A58BE1 1A48A229 C37C1E69 39F08678 \\n  80DDCD16 D6BACECA EEBC7CF9 8428787B 35202CDC 60E4616A B623CDBD 230E3AFB \\n  418616A9 4093E049 4D10AB75 27E86F73 932E35B5 8862FDAE 0275156F 719BB2F0 \\n  D697DF7F 28\\n  \\tquit\\ncrypto pki certificate chain TP-self-signed-3925178334\\n certificate self-signed 01\\n  30820330 30820218 A0030201 02020101 300D0609 2A864886 F70D0101 05050030 \\n  31312F30 2D060355 04031326 494F532D 53656C66 2D536967 6E65642D 43657274 \\n  69666963 6174652D 33393235 31373833 3334301E 170D3234 30333036 30373031 \\n  35385A17 0D333430 33303630 37303135 385A3031 312F302D 06035504 03132649 \\n  4F532D53 656C662D 5369676E 65642D43 65727469 66696361 74652D33 39323531 \\n  37383333 34308201 22300D06 092A8648 86F70D01 01010500 0382010F 00308201 \\n  0A028201 0100A7E2 87DC94A0 5B4D28CF 81043A35 E20ACE94 89F173AB D80D0178 \\n  A7B7C56C EF6A7191 394D2686 435A5161 920BDB0F 50171427 F72DE34A 8C69E1A6 \\n  DC7DCC14 3730288C 4B662A30 DCCA361B BBB3F44C 390181E2 56BD8F25 DCB89BF8 \\n  C7A77D47 98095AAA D01EB1F9 905B281D 67C02032 0A001816 B01DDE9A D3EB5536 \\n  EDCD6DC1 C3437CDF 1C683C59 EF5ADDFA 546087FF FA3F596C 61CA15E6 0AF2496D \\n  D38B6930 B94B3975 0DF9AA0B 853AEB48 E3D71EC0 45898CB7 B12098A6 BCFFF017 \\n  555DE90B 49499185 DF56757A CB95F94E CFA41B8A E89DC433 2BAE7D0B 81A2DC7F \\n  3CC0174C 8B59CE98 22949249 B4970C3C F7301122 8F9E2122 799F7D7E DFCAD1DC \\n  9E39B013 0E4D0203 010001A3 53305130 0F060355 1D130101 FF040530 030101FF \\n  301F0603 551D2304 18301680 140412AE 6FA34C52 FCD4A18C 2658D728 F2855E17 \\n  AA301D06 03551D0E 04160414 0412AE6F A34C52FC D4A18C26 58D728F2 855E17AA \\n  300D0609 2A864886 F70D0101 05050003 82010100 9DAC4FD4 374EBF19 92E05171 \\n  A42FA638 F6B6E4F9 FBE2B594 513066B5 D2066532 4C565211 233F78A4 86723D31 \\n  7BEBD92A 8256DF83 FCFED76B A889E8B3 05EBC16A 272118B7 DE463CD6 298EAD30 \\n  C9F4B77A 763AD2B8 C436CA39 66804CE8 A5CF9EDA 83F33B4B 7EDEDF32 CBAED264 \\n  E903CCC3 E13FE564 36467845 CF781210 AD56833B 1FE0586D D37F6A57 C88D0FFA \\n  3A52ED0E B2D00B12 CA885E7B F86B65B5 D0C9AF36 A4B9CB96 373F0CED 2D06128F \\n  D78A79BE E1A1BB3F CAA554D6 8F712A37 57CBB7C2 09B06E0D 1728051A BF070486 \\n  85104343 EF972150 9B28CC47 41ECD81E 1DDB8B97 9E3000BA 62D5BD1A 5176C940 \\n  F9069ECC 7DDDFB93 F62148DA E48531D3 11270A84\\n  \\tquit\\n!\\nlicense udi pid CSR1000V sn 9ZWH3K61J88\\ndiagnostic bootup level minimal\\nmemory free low-watermark processor 71477\\n!\\n!\\nspanning-tree extend system-id\\n!\\nusername ciscouser privilege 15 password 0 cisco@123\\n!\\nredundancy\\n!\\n!\\n!\\n!\\n!\\n!\\n!\\n! \\n!\\n!\\n!\\n!\\n!\\n!\\n!\\n!\\n!\\n!\\n!\\n!\\n!\\n! \\n! \\n!\\n!\\ninterface GigabitEthernet1\\n ip dhcp client client-id ascii cisco-5000.0001.0000-Gi1\\n ip address dhcp\\n negotiation auto\\n no mop enabled\\n no mop sysid\\n!\\ninterface GigabitEthernet2\\n ip address 192.168.1.221 255.255.255.0\\n negotiation auto\\n no mop enabled\\n no mop sysid\\n!\\ninterface GigabitEthernet3\\n no ip address\\n negotiation auto\\n no mop enabled\\n no mop sysid\\n!\\ninterface GigabitEthernet4\\n no ip address\\n negotiation auto\\n no mop enabled\\n no mop sysid\\n!\\nip forward-protocol nd\\nip http server\\nip http authentication local\\nip http secure-server\\nip http client source-interface GigabitEthernet1\\n!\\n!\\n!\\n!\\n!\\n!\\n!\\n!\\n!\\n!\\ncontrol-plane\\n!\\n!\\n!\\n!\\n!\\n!\\nline con 0\\n stopbits 1\\nline vty 0 4\\n privilege level 15\\n transport input ssh\\n!\\ncall-home\\n ! If contact email address in call-home is configured as sch-smart-licensing@cisco.com\\n ! the email address configured in Cisco Smart License Portal will be used as contact email address to send SCH notifications.\\n contact-email-addr sch-smart-licensing@cisco.com\\n profile \"CiscoTAC-1\"\\n  active\\n  destination transport-method http\\n!\\n!\\n!\\n!\\n!\\nend\\n'"
      ]
     },
     "execution_count": 3,
     "metadata": {},
     "output_type": "execute_result"
    }
   ],
   "source": [
    "cmd = 'show run'\n",
    "info = net.device.send_command(cmd)\n",
    "print(info)\n"
   ]
  }
 ],
 "metadata": {
  "kernelspec": {
   "display_name": "Python 3",
   "language": "python",
   "name": "python3"
  },
  "language_info": {
   "codemirror_mode": {
    "name": "ipython",
    "version": 3
   },
   "file_extension": ".py",
   "mimetype": "text/x-python",
   "name": "python",
   "nbconvert_exporter": "python",
   "pygments_lexer": "ipython3",
   "version": "3.12.0"
  }
 },
 "nbformat": 4,
 "nbformat_minor": 2
}
